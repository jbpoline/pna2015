{
 "metadata": {
  "name": "",
  "signature": "sha256:3b9505785177c37ec3820ef100a0e5ebb47c4cbcb91f1a8a50b519254599d476"
 },
 "nbformat": 3,
 "nbformat_minor": 0,
 "worksheets": [
  {
   "cells": [
    {
     "cell_type": "code",
     "collapsed": false,
     "input": [
      "# - compatibility with Python 3\n",
      "from __future__ import print_function  # print('me') instead of print 'me'\n",
      "from __future__ import division  # 1/2 == 0.5, not 0"
     ],
     "language": "python",
     "metadata": {},
     "outputs": [],
     "prompt_number": 1
    },
    {
     "cell_type": "code",
     "collapsed": false,
     "input": [
      "# - show figures inside the notebook\n",
      "%matplotlib inline"
     ],
     "language": "python",
     "metadata": {},
     "outputs": [],
     "prompt_number": 2
    },
    {
     "cell_type": "code",
     "collapsed": false,
     "input": [
      "# - import common modules\n",
      "import numpy as np  # the Python array package\n",
      "import matplotlib.pyplot as plt  # the Python plotting package"
     ],
     "language": "python",
     "metadata": {},
     "outputs": [],
     "prompt_number": 3
    },
    {
     "cell_type": "code",
     "collapsed": false,
     "input": [
      "# - set gray colormap and nearest neighbor interpolation by default\n",
      "plt.rcParams['image.cmap'] = 'gray'\n",
      "plt.rcParams['image.interpolation'] = 'nearest'"
     ],
     "language": "python",
     "metadata": {},
     "outputs": [],
     "prompt_number": 4
    },
    {
     "cell_type": "code",
     "collapsed": false,
     "input": [
      "# - import numpy.linalg with a shorter name\n",
      "import numpy.linalg as npl"
     ],
     "language": "python",
     "metadata": {},
     "outputs": [],
     "prompt_number": 5
    },
    {
     "cell_type": "code",
     "collapsed": false,
     "input": [
      "# - make numpy print out values in less verbose form\n",
      "np.set_printoptions(suppress=True, precision=4)"
     ],
     "language": "python",
     "metadata": {},
     "outputs": [],
     "prompt_number": 6
    },
    {
     "cell_type": "markdown",
     "metadata": {},
     "source": [
      "## What transforms did I add?"
     ]
    },
    {
     "cell_type": "markdown",
     "metadata": {},
     "source": [
      "I took this image\n",
      "\n",
      "* `ds114_sub009_highres.nii`\n",
      "\n",
      "and I made a new copy, in `img, hdr` format:\n",
      "\n",
      "* `ds114_sub009_highres_moved.img`\n",
      "\n",
      "I then modified the affine in `ds114_sub009_highres_moved.hdr` to add an extra rotation and translation.\n",
      "\n",
      "What extra translation and rotation did I add?"
     ]
    },
    {
     "cell_type": "markdown",
     "metadata": {},
     "source": [
      "Hint: remember the rotation formulae:\n",
      "\n",
      "$$\n",
      "\\begin{alignat}{1}\n",
      "R_x(\\theta) &= \\begin{bmatrix}\n",
      "1 & 0 & 0 \\\\\n",
      "0 & \\cos \\theta &  -\\sin \\theta \\\\[3pt]\n",
      "0 & \\sin \\theta  &  \\cos \\theta \\\\[3pt]\n",
      "\\end{bmatrix} \\\\[6pt]\n",
      "R_y(\\theta) &= \\begin{bmatrix}\n",
      "\\cos \\theta & 0 & \\sin \\theta \\\\[3pt]\n",
      "0 & 1 & 0 \\\\[3pt]\n",
      "-\\sin \\theta & 0 & \\cos \\theta \\\\\n",
      "\\end{bmatrix} \\\\[6pt]\n",
      "R_z(\\theta) &= \\begin{bmatrix}\n",
      "\\cos \\theta &  -\\sin \\theta & 0 \\\\[3pt]\n",
      "\\sin \\theta & \\cos \\theta & 0\\\\[3pt]\n",
      "0 & 0 & 1\\\\\n",
      "\\end{bmatrix}\n",
      "\\end{alignat}\n",
      "$$"
     ]
    },
    {
     "cell_type": "markdown",
     "metadata": {},
     "source": [
      "You might also want to compare against results from our `rotations` code:"
     ]
    },
    {
     "cell_type": "code",
     "collapsed": false,
     "input": [
      "# - get our functions to make rotation matrices\n",
      "# If this gives an error - maybe you didn't set your PYTHONPATH? Let us know!\n",
      "# on my system this look like : sys.path.append('../../pna2015_code')\n",
      "\n",
      "from rotations import x_rotmat, y_rotmat, z_rotmat\n",
      "import nibabel as nib\n",
      "\n",
      "aff_orig = nib.load('ds114_sub009_highres.nii').get_affine()\n",
      "aff_or = aff_orig[:3,:3]\n",
      "aff_ot = aff_orig[:3,3]\n",
      "aff_move = nib.load('ds114_sub009_highres_moved.img').get_affine()\n",
      "aff_mr = aff_move[:3,:3]\n",
      "aff_mt = aff_move[:3,3]\n",
      "u = np.ones((3,1))/np.sqrt(3)\n",
      "u = np.asarray([[1,2,3]]).T\n",
      "u = u / np.sqrt(u.T.dot(u))\n",
      "print(np.sqrt(u.T.dot(u)))\n",
      "ur = npl.pinv(aff_mr).dot(aff_or.dot(u))\n",
      "print(ur, ur.T.dot(ur))\n",
      "costheta = u.T.dot(ur)/np.sqrt(ur.T.dot(ur))\n",
      "print(costheta, np.arccos(costheta)*(180/pi))"
     ],
     "language": "python",
     "metadata": {},
     "outputs": [
      {
       "output_type": "stream",
       "stream": "stdout",
       "text": [
        "[[ 1.]]\n",
        "[[ 0.5096]\n",
        " [ 0.4428]\n",
        " [ 0.7786]] [[ 1.0619]]\n",
        "[[ 0.9676]] [[ 14.6229]]\n"
       ]
      }
     ],
     "prompt_number": 42
    },
    {
     "cell_type": "code",
     "collapsed": false,
     "input": [
      "\n",
      "\n",
      "print(npl.inv(aff_mr) - aff_mr.T)\n",
      "\n",
      "print(aff_or.T.dot(aff_or))\n",
      "\n",
      "print(aff_or)\n",
      "\n",
      "print(npl.det(aff_mr))"
     ],
     "language": "python",
     "metadata": {},
     "outputs": [
      {
       "output_type": "stream",
       "stream": "stdout",
       "text": [
        "[[ 0.     -0.     -0.    ]\n",
        " [ 0.1761 -0.4856  0.1237]\n",
        " [-0.     -0.      0.    ]]\n",
        "[[ 1.      0.      0.    ]\n",
        " [ 0.      1.6906 -0.    ]\n",
        " [ 0.     -0.      1.    ]]\n",
        "[[ 0.9989 -0.0605  0.0109]\n",
        " [ 0.0427  1.263   0.2336]\n",
        " [-0.0215 -0.3028  0.9723]]\n",
        "1.30022228907\n"
       ]
      }
     ],
     "prompt_number": 67
    },
    {
     "cell_type": "code",
     "collapsed": false,
     "input": [
      "#print(aff_mr, \"\\n\",npl.pinv(aff_mr))\n",
      "\n",
      "rc = npl.pinv(aff_or).dot((aff_mr))\n",
      "print(rc)\n",
      "print(npl.pinv(rc) - rc.T)\n",
      "\n",
      "\n",
      "rc = aff_or.T.dot(aff_mr)\n",
      "print(rc)\n",
      "print(aff_mr.T - npl.pinv(aff_mr))"
     ],
     "language": "python",
     "metadata": {},
     "outputs": [
      {
       "output_type": "stream",
       "stream": "stdout",
       "text": [
        "[[ 0.9554 -0.3733 -0.0698]\n",
        " [ 0.2212  0.9578 -0.0029]\n",
        " [ 0.0679 -0.0214  0.9976]]\n",
        "[[ 0.      0.1527 -0.    ]\n",
        " [ 0.1525 -0.      0.0087]\n",
        " [ 0.     -0.002  -0.    ]]\n",
        "[[ 0.9554 -0.3733 -0.0698]\n",
        " [ 0.3739  1.6192 -0.0049]\n",
        " [ 0.0679 -0.0214  0.9976]]\n",
        "[[-0.      0.      0.    ]\n",
        " [-0.1761  0.4856 -0.1237]\n",
        " [ 0.      0.     -0.    ]]\n"
       ]
      }
     ],
     "prompt_number": 58
    },
    {
     "cell_type": "markdown",
     "metadata": {},
     "source": [
      "Final hint:\n",
      "\n",
      "* inverse sine, cosine are ``np.arcsin, np.arccos``."
     ]
    },
    {
     "cell_type": "code",
     "collapsed": false,
     "input": [
      "# Get the original image affine\n",
      "xr = x_rotmat(.3)\n",
      "xr.dot(xr)"
     ],
     "language": "python",
     "metadata": {},
     "outputs": [
      {
       "metadata": {},
       "output_type": "pyout",
       "prompt_number": 44,
       "text": [
        "array([[ 1.    ,  0.    ,  0.    ],\n",
        "       [ 0.    ,  0.8253, -0.5646],\n",
        "       [ 0.    ,  0.5646,  0.8253]])"
       ]
      }
     ],
     "prompt_number": 44
    },
    {
     "cell_type": "code",
     "collapsed": false,
     "input": [
      "# Get the new image affine"
     ],
     "language": "python",
     "metadata": {},
     "outputs": []
    },
    {
     "cell_type": "code",
     "collapsed": false,
     "input": [
      "# Work out what transform has been added in the new affine"
     ],
     "language": "python",
     "metadata": {},
     "outputs": []
    },
    {
     "cell_type": "code",
     "collapsed": false,
     "input": [
      "# What rotation and translation has been applied?"
     ],
     "language": "python",
     "metadata": {},
     "outputs": []
    }
   ],
   "metadata": {}
  }
 ]
}