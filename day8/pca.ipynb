{
 "metadata": {
  "name": "",
  "signature": "sha256:7472e10d559d2e5e5f1ff12a742cc7bc3298bdc15ce104550646226a30e4047f"
 },
 "nbformat": 3,
 "nbformat_minor": 0,
 "worksheets": [
  {
   "cells": [
    {
     "cell_type": "code",
     "collapsed": false,
     "input": [
      "# - compatibility with Python 3\n",
      "from __future__ import print_function  # print('me') instead of print 'me'\n",
      "from __future__ import division  # 1/2 == 0.5, not 0"
     ],
     "language": "python",
     "metadata": {},
     "outputs": []
    },
    {
     "cell_type": "code",
     "collapsed": false,
     "input": [
      "# - show figures inside the notebook\n",
      "%matplotlib inline"
     ],
     "language": "python",
     "metadata": {},
     "outputs": []
    },
    {
     "cell_type": "code",
     "collapsed": false,
     "input": [
      "# - import common modules\n",
      "import numpy as np  # the Python array package\n",
      "import matplotlib.pyplot as plt  # the Python plotting package"
     ],
     "language": "python",
     "metadata": {},
     "outputs": []
    },
    {
     "cell_type": "code",
     "collapsed": false,
     "input": [
      "# - import numpy.linalg with a shorter name\n",
      "import numpy.linalg as npl"
     ],
     "language": "python",
     "metadata": {},
     "outputs": []
    },
    {
     "cell_type": "code",
     "collapsed": false,
     "input": [
      "# - set gray colormap and nearest neighbor interpolation by default\n",
      "plt.rcParams['image.cmap'] = 'gray'\n",
      "plt.rcParams['image.interpolation'] = 'nearest'"
     ],
     "language": "python",
     "metadata": {},
     "outputs": []
    },
    {
     "cell_type": "markdown",
     "metadata": {},
     "source": [
      "Load the image `ds114_sub009_t2r1.nii` with nibabel.  Get the data:"
     ]
    },
    {
     "cell_type": "code",
     "collapsed": false,
     "input": [
      "# Load the image 'ds114_sub009_t2r1.nii' with nibabel\n",
      "# Get the data array from the image\n",
      "import nibabel as nib\n",
      "img = nib.load('ds114_sub009_t2r1.nii')"
     ],
     "language": "python",
     "metadata": {},
     "outputs": []
    },
    {
     "cell_type": "markdown",
     "metadata": {},
     "source": [
      "We can think of the shape of the data as two parts - the first 3 values are the 3D shape of the individual volumes, and the last value is the number of volumes."
     ]
    },
    {
     "cell_type": "markdown",
     "metadata": {},
     "source": [
      "Put the 3D shape into a variable `vol_shape` and the number of volumes into a variable `n_vols`:"
     ]
    },
    {
     "cell_type": "code",
     "collapsed": false,
     "input": [
      "# Make variables:\n",
      "# 'vol_shape' for shape of volumes\n",
      "# 'n_vols' for number of volumes"
     ],
     "language": "python",
     "metadata": {},
     "outputs": []
    },
    {
     "cell_type": "markdown",
     "metadata": {},
     "source": [
      "We are going to start by looking at only the first two \"variables\" (time points)."
     ]
    },
    {
     "cell_type": "markdown",
     "metadata": {},
     "source": [
      "Slice the data array to make a new array that contains only the first two volumes:"
     ]
    },
    {
     "cell_type": "code",
     "collapsed": false,
     "input": [
      "# Slice the image data array to give array with only first two volumes"
     ],
     "language": "python",
     "metadata": {},
     "outputs": []
    },
    {
     "cell_type": "markdown",
     "metadata": {},
     "source": [
      "How many voxels are there in one volume?  Call this number variable `N`:"
     ]
    },
    {
     "cell_type": "code",
     "collapsed": false,
     "input": [
      "# Set N to be the number of voxels in a volume"
     ],
     "language": "python",
     "metadata": {},
     "outputs": []
    },
    {
     "cell_type": "markdown",
     "metadata": {},
     "source": [
      "Reshape the new two-volume data array to have a first dimension length `N` and second dimension length 2. So, each column corresponds to the voxels for one volume."
     ]
    },
    {
     "cell_type": "code",
     "collapsed": false,
     "input": [
      "# Reshape to 2D array with first dimension length N"
     ],
     "language": "python",
     "metadata": {},
     "outputs": []
    },
    {
     "cell_type": "markdown",
     "metadata": {},
     "source": [
      "Take the transpose of this array to get a 2 by `N` array, ready for the PCA:"
     ]
    },
    {
     "cell_type": "code",
     "collapsed": false,
     "input": [
      "# Transpose to 2 by N array"
     ],
     "language": "python",
     "metadata": {},
     "outputs": []
    },
    {
     "cell_type": "markdown",
     "metadata": {},
     "source": [
      "Calculate the mean across columns (row means):"
     ]
    },
    {
     "cell_type": "code",
     "collapsed": false,
     "input": [
      "# Calculate the mean across columns"
     ],
     "language": "python",
     "metadata": {},
     "outputs": []
    },
    {
     "cell_type": "markdown",
     "metadata": {},
     "source": [
      "Make the row_means vector into a column vector, using `reshape`.  (This gets the vector ready for broadcasting):"
     ]
    },
    {
     "cell_type": "code",
     "collapsed": false,
     "input": [
      "# Make row means into a column vector"
     ],
     "language": "python",
     "metadata": {},
     "outputs": []
    },
    {
     "cell_type": "markdown",
     "metadata": {},
     "source": [
      "Subtract the `row_means` column vector from the 2 by N data matrix and put the result into a variable `X`.  Remember, broadcasting will expand the last 1-length dimension of `row_means` to length N, by repeating the data.\n",
      "\n",
      "Print the means across columns (row means) to check they are now very close to 0:"
     ]
    },
    {
     "cell_type": "code",
     "collapsed": false,
     "input": [
      "# Subtract the means for each row, put the result into X\n",
      "# Show the means over the columns, after the subtraction"
     ],
     "language": "python",
     "metadata": {},
     "outputs": []
    },
    {
     "cell_type": "markdown",
     "metadata": {},
     "source": [
      "Plot the two rows against each other to get a feel for the variation.  Remember that each row in `X` is a volume, so you are plotting the signal from the first volume against the signal for the second volume."
     ]
    },
    {
     "cell_type": "code",
     "collapsed": false,
     "input": [
      "# Plot the signal in the first row against the signal in the second"
     ],
     "language": "python",
     "metadata": {},
     "outputs": []
    },
    {
     "cell_type": "markdown",
     "metadata": {},
     "source": [
      "Time for the PCA.\n",
      "\n",
      "We are going to use the *unscaled* covariance.  This is given by the matrix multiplication of `X` with its transpose.  Calculate this:"
     ]
    },
    {
     "cell_type": "code",
     "collapsed": false,
     "input": [
      "# Calculate unscaled covariance matrix for X"
     ],
     "language": "python",
     "metadata": {},
     "outputs": []
    },
    {
     "cell_type": "markdown",
     "metadata": {},
     "source": [
      "Use SVD to get the U, S and V matrices from the unscaled covariance:"
     ]
    },
    {
     "cell_type": "code",
     "collapsed": false,
     "input": [
      "# Use SVD to return U, S, V matrices from unscaled covariance"
     ],
     "language": "python",
     "metadata": {},
     "outputs": []
    },
    {
     "cell_type": "markdown",
     "metadata": {},
     "source": [
      "Confirm that the row vectors in `V` are both unit vectors.  A unit vector has vector length (vector *norm* of 1):"
     ]
    },
    {
     "cell_type": "code",
     "collapsed": false,
     "input": [
      "# Show that the rows in V each have vector length 1"
     ],
     "language": "python",
     "metadata": {},
     "outputs": []
    },
    {
     "cell_type": "markdown",
     "metadata": {},
     "source": [
      "Confirm that the first row in `V` is orthogonal to the second:"
     ]
    },
    {
     "cell_type": "code",
     "collapsed": false,
     "input": [
      "# Confirm orthogonality of rows in V"
     ],
     "language": "python",
     "metadata": {},
     "outputs": []
    },
    {
     "cell_type": "markdown",
     "metadata": {},
     "source": [
      "Show the total sum of squares in `X`.   Confirm that the total sum of squares in `X` is the same as the sum of the *singular values* in the `S` vector from the SVD:"
     ]
    },
    {
     "cell_type": "code",
     "collapsed": false,
     "input": [
      "# Show the total sum of squares in X\n",
      "# Is this (nearly) the same as the sum of the values in S?"
     ],
     "language": "python",
     "metadata": {},
     "outputs": []
    },
    {
     "cell_type": "markdown",
     "metadata": {},
     "source": [
      "Plot the first row in `X` against the second row in `X` again.  This time add a line corresponding to the first principal component.  You'll have to scale this line (a unit vector) to make it long enough to see on the axes of the plot.  If the first principal component is flipped ($\\vec{r}$ defines same line as $-\\vec{r}$) you may need to scale by a negative number for it to look nice on the plot:"
     ]
    },
    {
     "cell_type": "code",
     "collapsed": false,
     "input": [
      "# Plot the signal in the first row against the signal in the second\n",
      "# Plot line corresponding to a scaled version of the first principal component\n",
      "# (Scaling may need to be negative)"
     ],
     "language": "python",
     "metadata": {},
     "outputs": []
    },
    {
     "cell_type": "markdown",
     "metadata": {},
     "source": [
      "Remember the projection formula $c = \\hat{u} \\cdot \\vec{v}$.   \n",
      "\n",
      "We now need to calculate the projection coefficients $c$ for each component $\\hat{u}$ and each voxel (each $\\vec{v}$).\n",
      "\n",
      "This will give us a new output matrix of coefficients $C$ which is shape `(2, N)`, where the rows give the coefficients for one component, and the columns give the coefficients for one voxel.\n",
      "\n",
      "For example, `C[0, 0]` will be the result of `V[0].dot(X[:, 0])`, `C[0, 1]` will be the result of `V[0].dot(X[:, 1])`, and `C[1, 0]` will be the result of `V[1].dot(X[:, 0])`.\n",
      "\n",
      "With that background, see if you can use matrix multiplication to calculate the projection coefficients `C` for projecting the data `X` onto the vectors in `V`:"
     ]
    },
    {
     "cell_type": "code",
     "collapsed": false,
     "input": [
      "# Calculate the projection coefficients for projecting X onto the vectors in V\n",
      "# Put the result into a new array C."
     ],
     "language": "python",
     "metadata": {},
     "outputs": []
    },
    {
     "cell_type": "markdown",
     "metadata": {},
     "source": [
      "Remember that `C` - the projection coefficients - has one column per voxel.  We can think of each row as corresponding to a volume where the volumes are contained in: `C[0]` (first row of `C`) - projection coefficients for first principal component; `C[1]` (second row of C) - projection coefficients for second principal component."
     ]
    },
    {
     "cell_type": "markdown",
     "metadata": {},
     "source": [
      "Take the transpose of `C` and reshape the resulting first dimension (length `N`) back to `vol_shape` - the original shape of the 3D volumes in the data."
     ]
    },
    {
     "cell_type": "code",
     "collapsed": false,
     "input": [
      "# Transpose C\n",
      "# Reshape the first dimension of C to have the 3D shape of the original data volumes."
     ],
     "language": "python",
     "metadata": {},
     "outputs": []
    },
    {
     "cell_type": "markdown",
     "metadata": {},
     "source": [
      "Break this 4D array up into two volumes (volume for first component, volume for second component) using slicing:"
     ]
    },
    {
     "cell_type": "code",
     "collapsed": false,
     "input": [
      "# Break 4D array into two 3D volumes"
     ],
     "language": "python",
     "metadata": {},
     "outputs": []
    },
    {
     "cell_type": "markdown",
     "metadata": {},
     "source": [
      "Show the middle slice (slice over the third dimension) from the volume of coefficients for the first component:"
     ]
    },
    {
     "cell_type": "code",
     "collapsed": false,
     "input": [
      "# Show middle slice (over third dimension) from volume of coefficients for first component"
     ],
     "language": "python",
     "metadata": {},
     "outputs": []
    },
    {
     "cell_type": "markdown",
     "metadata": {},
     "source": [
      "Show the middle slice (slice over the third dimension) from the volume of coefficients for the second component:"
     ]
    },
    {
     "cell_type": "code",
     "collapsed": false,
     "input": [
      "# Show middle slice (over third dimension) from volume of coefficients for second component"
     ],
     "language": "python",
     "metadata": {},
     "outputs": []
    },
    {
     "cell_type": "markdown",
     "metadata": {},
     "source": [
      "Now we are ready to do the same thing for all the time points, instead of just the first two."
     ]
    },
    {
     "cell_type": "markdown",
     "metadata": {},
     "source": [
      "Take the original array data matrix with `n_vols` volumes.  Reshape to be shape `(N, nvols)`.  Take the transpose to get an array shape `(n_vols, N)`:"
     ]
    },
    {
     "cell_type": "code",
     "collapsed": false,
     "input": [
      "# Reshape first dimension of whole image data array to N, and take transpose"
     ],
     "language": "python",
     "metadata": {},
     "outputs": []
    },
    {
     "cell_type": "markdown",
     "metadata": {},
     "source": [
      "Calculate the mean across columns (mean per volume).  Make this 1D vector (shape `(n_vols,)`) vector into a column vector (shape `(n_vols, 1)`).  Subtract this array from the `(n_vols, N)` data array to remove the mean across columns (mean per volume) (broadcasting will extend the single mean column to N repeats for the subtraction).  Call this mean-corrected variable `X`:"
     ]
    },
    {
     "cell_type": "code",
     "collapsed": false,
     "input": [
      "# Calculate mean across columns\n",
      "# Reshape mean to a column vector\n",
      "# Subtract from data array to remove mean over columns (row means)\n",
      "# Put result into array X"
     ],
     "language": "python",
     "metadata": {},
     "outputs": []
    },
    {
     "cell_type": "markdown",
     "metadata": {},
     "source": [
      "Get the unscaled covariance matrix of X:"
     ]
    },
    {
     "cell_type": "code",
     "collapsed": false,
     "input": [
      "# Calculate unscaled covariance matrix of X"
     ],
     "language": "python",
     "metadata": {},
     "outputs": []
    },
    {
     "cell_type": "markdown",
     "metadata": {},
     "source": [
      "Get U, S, V outputs from the SVD of the unscaled covariance"
     ]
    },
    {
     "cell_type": "code",
     "collapsed": false,
     "input": [
      "# Calculate U, S, V with SVD on unscaled covariance matrix"
     ],
     "language": "python",
     "metadata": {},
     "outputs": []
    },
    {
     "cell_type": "markdown",
     "metadata": {},
     "source": [
      "Use `plt.subplots` to make a column of 10 axes.  Iterate over these axes, plotting one principal component vector per axis.  You should then have a plot of each of the first 10 principal component vectors:"
     ]
    },
    {
     "cell_type": "code",
     "collapsed": false,
     "input": [
      "# Use subplots to make axes to plot first 10 principle component vectors\n",
      "# Plot one component vector per sub-plot."
     ],
     "language": "python",
     "metadata": {},
     "outputs": []
    },
    {
     "cell_type": "markdown",
     "metadata": {},
     "source": [
      "Use `V` and matrix multiplication to calculate the projection coefficients for projecting the data `X` onto the principal components `V`.  Put the result into `C`:"
     ]
    },
    {
     "cell_type": "code",
     "collapsed": false,
     "input": [
      "# Calculate projection coefficients for projecting X onto V\n",
      "# Put results into array C."
     ],
     "language": "python",
     "metadata": {},
     "outputs": []
    },
    {
     "cell_type": "markdown",
     "metadata": {},
     "source": [
      "Remember, each row of `C` is a full volume of projection coefficients, one row per principal component."
     ]
    },
    {
     "cell_type": "markdown",
     "metadata": {},
     "source": [
      "Reconstruct these rows as volumes by taking the transpose of `C` and reshaping the first dimension length `N` to the original three dimensions of the original data volumes."
     ]
    },
    {
     "cell_type": "code",
     "collapsed": false,
     "input": [
      "# Transpose C\n",
      "# Reshape the first dimension of C to have the 3D shape of the original data volumes."
     ],
     "language": "python",
     "metadata": {},
     "outputs": []
    },
    {
     "cell_type": "markdown",
     "metadata": {},
     "source": [
      "Take the first volume (corresponding to the first principal component) and display the middle slice (slicing over the third dimension):"
     ]
    },
    {
     "cell_type": "code",
     "collapsed": false,
     "input": [
      "# Show middle slice (over third dimension) of first principal component volume"
     ],
     "language": "python",
     "metadata": {},
     "outputs": []
    },
    {
     "cell_type": "markdown",
     "metadata": {},
     "source": [
      "What does this first component show us?\n",
      "\n",
      "Remember that the projections coefficients tell us how much of the component vector there is in the data, at each voxel.  If the voxel has a high value it means there is a large amplitude of the component time-course at this voxel, and if the component is dark it means there is a large negative amplitude of the component time course.\n",
      "\n",
      "Have a look again at the first component time course.  How would a large positive or negative amplitude of the time course come about?\n",
      "\n",
      "As a hint while you are thinking, get the mean over time from the image data (mean over the last axis), and show the middle slice (slicing over the third axis):"
     ]
    },
    {
     "cell_type": "code",
     "collapsed": false,
     "input": [
      "# Make the mean volume (mean over the last axis)\n",
      "# Show the middle slice (slicing over the third axis)"
     ],
     "language": "python",
     "metadata": {},
     "outputs": []
    },
    {
     "cell_type": "markdown",
     "metadata": {},
     "source": [
      "Display the middle slice (slicing over the third dimension) for the second principal component volume.\n",
      "\n",
      "Looking at the principal component plot - what kind of changes over time does this principal component represent?"
     ]
    },
    {
     "cell_type": "code",
     "collapsed": false,
     "input": [
      "# Show middle slice (over third dimension) of second principal component volume"
     ],
     "language": "python",
     "metadata": {},
     "outputs": []
    },
    {
     "cell_type": "markdown",
     "metadata": {},
     "source": [
      "Do the same for the third principal component volume:"
     ]
    },
    {
     "cell_type": "code",
     "collapsed": false,
     "input": [
      "# Show middle slice (over third dimension) of third principal component volume"
     ],
     "language": "python",
     "metadata": {},
     "outputs": []
    }
   ],
   "metadata": {}
  }
 ]
}